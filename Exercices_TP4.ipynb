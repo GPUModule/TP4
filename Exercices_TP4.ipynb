{
  "nbformat": 4,
  "nbformat_minor": 0,
  "metadata": {
    "colab": {
      "name": "CUDA-GPU.ipynb",
      "provenance": [],
      "collapsed_sections": []
    },
    "kernelspec": {
      "name": "python3",
      "display_name": "Python 3"
    },
    "language_info": {
      "name": "python"
    },
    "accelerator": "GPU"
  },
  "cells": [
    {
      "cell_type": "markdown",
      "source": [
        "# Initialisation de CUDA"
      ],
      "metadata": {
        "id": "j3cB5nzrFZqM"
      }
    },
    {
      "cell_type": "code",
      "execution_count": null,
      "metadata": {
        "id": "BJMIqMIupjl9"
      },
      "outputs": [],
      "source": [
        "!nvcc -V"
      ]
    },
    {
      "cell_type": "code",
      "source": [
        "!apt-get --purge remove cuda nvidia* libnvidia-*\n",
        "!dpkg -l | grep cuda- | awk '{print $2}' | xargs -n1 dpkg --purge\n",
        "!apt-get remove cuda-*\n",
        "!apt autoremove\n",
        "!apt-get update"
      ],
      "metadata": {
        "collapsed": true,
        "id": "_0WZ72H9WKYc"
      },
      "execution_count": null,
      "outputs": []
    },
    {
      "cell_type": "code",
      "source": [
        "!wget https://developer.nvidia.com/compute/cuda/9.2/Prod/local_installers/cuda-repo-ubuntu1604-9-2-local_9.2.88-1_amd64 -O cuda-repo-ubuntu1604-9-2-local_9.2.88-1_amd64.deb\n",
        "!dpkg -i cuda-repo-ubuntu1604-9-2-local_9.2.88-1_amd64.deb\n",
        "!apt-key add /var/cuda-repo-9-2-local/7fa2af80.pub\n",
        "!apt-get update\n",
        "!apt-get install cuda-9.2"
      ],
      "metadata": {
        "id": "gAeionhAWlPp"
      },
      "execution_count": null,
      "outputs": []
    },
    {
      "cell_type": "code",
      "source": [
        "!pip install git+https://github.com/andreinechaev/nvcc4jupyter.git"
      ],
      "metadata": {
        "id": "lAuTDb_SpyIj"
      },
      "execution_count": null,
      "outputs": []
    },
    {
      "cell_type": "code",
      "source": [
        "%load_ext nvcc_plugin"
      ],
      "metadata": {
        "id": "mlg1rb6tqPMX"
      },
      "execution_count": null,
      "outputs": []
    },
    {
      "cell_type": "code",
      "source": [
        "%%writefile Makefile\n",
        "\n",
        "# Change the example variable to build a different source module (e.g. EXAMPLE=exercice01)\n",
        "EXAMPLE=exercice01\n",
        "\n",
        "# Makefile variables \n",
        "# Add extra targets to OBJ with space separator e.g. If there is as source file random.c then add random.o to OBJ)\n",
        "# Add any additional dependancies (header files) to DEPS. e.g. if there is aheader file random.h required by your source modules then add this to DEPS.\n",
        "CC=gcc\n",
        "CFLAGS= -O3 -Wextra -fopenmp\n",
        "NVCC=nvcc\n",
        "NVCC_FLAGS=\n",
        "OBJ=$(EXAMPLE).o\n",
        "DEPS=\n",
        "\n",
        "# Build rule for object files ($@ is left hand side of rule, $< is first item from the right hand side of rule)\n",
        "%.o : %.cu $(DEPS)\n",
        "\t$(NVCC) -c -o $@ $< $(NVCC_FLAGS) $(addprefix -Xcompiler ,$(CCFLAGS))\n",
        "\n",
        "# Make example ($^ is all items from right hand side of the rule)\n",
        "$(EXAMPLE) : $(OBJ)\n",
        "\t$(NVCC) -o $@ $^ $(NVCC_FLAGS) $(addprefix -Xcompiler ,$(CCFLAGS))\n",
        "\n",
        "# PHONY prevents make from doing something with a filename called clean\n",
        ".PHONY : clean\n",
        "clean:\n",
        "\trm -rf $(EXAMPLE) $(OBJ)"
      ],
      "metadata": {
        "id": "ZMalavoO544j"
      },
      "execution_count": null,
      "outputs": []
    },
    {
      "cell_type": "markdown",
      "source": [
        "# TP4 Exercice 1"
      ],
      "metadata": {
        "id": "U-gjIFJHE-kq"
      }
    },
    {
      "cell_type": "code",
      "source": [
        "%%writefile exercice01.cu\n",
        "#include <math.h>\n",
        "#include <iostream>\n",
        "#include <time.h>\n",
        "#include <sys/time.h>\n",
        "#include <stdio.h>\n",
        "\n",
        "// 1.2.4 Modification des parametres\n",
        "typedef float ft;\n",
        "const int sub_parts = 64;\n",
        "const size_t ds = 1024*1024*sub_parts;\n",
        "const int count = 22;\n",
        "const int num_streams = 8;\n",
        "\n",
        "\n",
        "const float sqrt_2PIf = 2.5066282747946493232942230134974f;\n",
        "const double sqrt_2PI = 2.5066282747946493232942230134974;\n",
        "__device__ float gpdf(float val, float sigma) {\n",
        "  return expf(-0.5f * val * val) / (sigma * sqrt_2PIf);\n",
        "}\n",
        "\n",
        "__device__ double gpdf(double val, double sigma) {\n",
        "  return exp(-0.5 * val * val) / (sigma * sqrt_2PI);\n",
        "}\n",
        "\n",
        "//  calcul la moyenne de la densite de probabilite sur un interval de valeurs autour de chaque point.\n",
        "__global__ void gaussian_pdf(const ft * __restrict__ x, ft * __restrict__ y, const ft mean, const ft sigma, const int n) {\n",
        "  int idx = threadIdx.x + blockDim.x * blockIdx.x;\n",
        "  if (idx < n) {\n",
        "    ft in = x[idx] - (count / 2) * 0.01f;\n",
        "    ft out = 0;\n",
        "    for (int i = 0; i < count; i++) {\n",
        "      ft temp = (in - mean) / sigma;\n",
        "      out += gpdf(temp, sigma);\n",
        "      in += 0.01f;\n",
        "    }\n",
        "    y[idx] = out / count;\n",
        "  }\n",
        "}\n",
        "\n",
        "// Verification d'erreur CUDA\n",
        "#define cudaCheckErrors(msg) \\\n",
        "  do { \\\n",
        "    cudaError_t __err = cudaGetLastError(); \\\n",
        "    if (__err != cudaSuccess) { \\\n",
        "        fprintf(stderr, \"Fatal error: %s (%s at %s:%d)\\n\", \\\n",
        "            msg, cudaGetErrorString(__err), \\\n",
        "            __FILE__, __LINE__); \\\n",
        "        fprintf(stderr, \"*** FAILED - ABORTING\\n\"); \\\n",
        "        exit(1); \\\n",
        "    } \\\n",
        "  } while (0)\n",
        "\n",
        "// Calcul du temps sur l'host\n",
        "#define USECPSEC 1000000ULL\n",
        "\n",
        "unsigned long long dtime_usec(unsigned long long start) {\n",
        "  timeval tv;\n",
        "  gettimeofday(&tv, 0);\n",
        "  return ((tv.tv_sec*USECPSEC)+tv.tv_usec)-start;\n",
        "}\n",
        "\n",
        "int main() {\n",
        "  ft *h_x, *d_x, *h_y, *h_y1, *d_y;\n",
        "  h_x = (ft *)malloc(ds*sizeof(ft));\n",
        "  h_y = (ft *)malloc(ds*sizeof(ft));\n",
        "  h_y1 = (ft *)malloc(ds*sizeof(ft));\n",
        "\n",
        "  cudaMalloc(&d_x, ds*sizeof(ft));\n",
        "  cudaMalloc(&d_y, ds*sizeof(ft));\n",
        "  cudaCheckErrors(\"allocation error\");\n",
        "\n",
        "  gaussian_pdf<<<(ds + 255) / 256, 256>>>(d_x, d_y, 0.0, 1.0, ds); // warm-up\n",
        "\n",
        "  for (size_t i = 0; i < ds; i++) {\n",
        "    h_x[i] = rand() / (ft)RAND_MAX;\n",
        "  }\n",
        "  cudaDeviceSynchronize();\n",
        "\n",
        "  unsigned long long et1 = dtime_usec(0);\n",
        "\n",
        "  cudaMemcpy(d_x, h_x, ds * sizeof(ft), cudaMemcpyHostToDevice);\n",
        "  gaussian_pdf<<<(ds + 255) / 256, 256>>>(d_x, d_y, 0.0, 1.0, ds);\n",
        "  cudaMemcpy(h_y1, d_y, ds * sizeof(ft), cudaMemcpyDeviceToHost);\n",
        "  cudaCheckErrors(\"non-streams execution error\");\n",
        "\n",
        "  et1 = dtime_usec(et1);\n",
        "  std::cout << \"non-stream elapsed time: \" << et1/(float)USECPSEC << std::endl;\n",
        "\n",
        "#ifdef USE_STREAMS\n",
        "  cudaMemset(d_y, 0, ds * sizeof(ft));\n",
        "\n",
        "  unsigned long long et = dtime_usec(0);\n",
        "\n",
        "  // 1.2.1 Creation des streams\n",
        " \n",
        "\n",
        "  // 1.2.2 Execution des streams\n",
        "  \n",
        "\n",
        "\n",
        "  et = dtime_usec(et);\n",
        "\n",
        "  for (int i = 0; i < ds; i++) {\n",
        "    if (h_y[i] != h_y1[i]) {\n",
        "      std::cout << \"mismatch at \" << i << \" was: \" << h_y[i] << \" should be: \" << h_y1[i] << std::endl;\n",
        "      return -1;\n",
        "    }\n",
        "  }\n",
        "\n",
        "  // 1.2.1 Destruction des streams\n",
        "\n",
        "  std::cout << \"streams elapsed time: \" << et/(float)USECPSEC << std::endl;\n",
        "#endif\n",
        "\n",
        "  return 0;\n",
        "}"
      ],
      "metadata": {
        "id": "Jwl-4BEerRo5"
      },
      "execution_count": null,
      "outputs": []
    },
    {
      "cell_type": "code",
      "source": [
        "%%shell\n",
        "\n",
        "make"
      ],
      "metadata": {
        "id": "FbaG8P7hrtJh",
        "collapsed": true
      },
      "execution_count": null,
      "outputs": []
    },
    {
      "cell_type": "code",
      "source": [
        "%%shell\n",
        "\n",
        "./exercice01"
      ],
      "metadata": {
        "id": "LPQOuQf3sf8D"
      },
      "execution_count": null,
      "outputs": []
    },
    {
      "cell_type": "markdown",
      "source": [
        "## TP4 Exercice 2"
      ],
      "metadata": {
        "id": "b_Btnf1zPz8A"
      }
    },
    {
      "cell_type": "code",
      "source": [
        "%%writefile Makefile\n",
        "\n",
        "# Change the example variable to build a different source module (e.g. EXAMPLE=exercice01)\n",
        "EXAMPLE=exercice02\n",
        "\n",
        "# Makefile variables \n",
        "# Add extra targets to OBJ with space separator e.g. If there is as source file random.c then add random.o to OBJ)\n",
        "# Add any additional dependancies (header files) to DEPS. e.g. if there is aheader file random.h required by your source modules then add this to DEPS.\n",
        "CC=gcc\n",
        "CFLAGS= -O3 -Wextra -fopenmp\n",
        "NVCC=nvcc\n",
        "NVCC_FLAGS= -DUSE_STREAMS\n",
        "OBJ=$(EXAMPLE).o\n",
        "DEPS=\n",
        "\n",
        "# Build rule for object files ($@ is left hand side of rule, $< is first item from the right hand side of rule)\n",
        "%.o : %.cu $(DEPS)\n",
        "\t$(NVCC) -c -o $@ $< $(NVCC_FLAGS) $(addprefix -Xcompiler ,$(CCFLAGS))\n",
        "\n",
        "# Make example ($^ is all items from right hand side of the rule)\n",
        "$(EXAMPLE) : $(OBJ)\n",
        "\t$(NVCC) -o $@ $^ $(NVCC_FLAGS) $(addprefix -Xcompiler ,$(CCFLAGS))\n",
        "\n",
        "# PHONY prevents make from doing something with a filename called clean\n",
        ".PHONY : clean\n",
        "clean:\n",
        "\trm -rf $(EXAMPLE) $(OBJ)"
      ],
      "metadata": {
        "id": "6kh4fHHOPw3w"
      },
      "execution_count": null,
      "outputs": []
    },
    {
      "cell_type": "code",
      "source": [
        "%%writefile exercice02.cu\n",
        "#include <stdio.h>\n",
        "#include <cuda.h>\n",
        "\n",
        "__global__ void dummy_kernel(double *data, int N, int idx) {\n",
        "\tint i = blockIdx.x * blockDim.x + blockDim.x*idx + threadIdx.x;\n",
        "\tif (i < N) {\n",
        "\t\tfor (int j = 0; j < 200; j++) {\n",
        "\t\t\tdata[i] = cos(data[i]);\n",
        "\t\t\tdata[i] = sqrt(fabs(data[i]));\n",
        "\t\t}\n",
        "\t}\n",
        "}\n",
        "\n",
        "int main()\n",
        "{\n",
        "\tint nblocks = 30;\n",
        "\tint blocksize = 1024;\n",
        "\tdouble *data;\n",
        "\tcudaMalloc( (void**)&data, nblocks*blocksize*sizeof(double) );\n",
        "\tfloat time;\n",
        "\tcudaEvent_t start, stop;\n",
        "\tcudaEventCreate(&start);\n",
        "\tcudaEventCreate(&stop);\n",
        "\tcudaEventRecord(start, 0);\n",
        "\tdim3 dimBlock( blocksize, 1, 1 );\n",
        "\tdim3 dimGrid( 1, 1, 1 );\n",
        "\tfor (int i = 0; i < nblocks; i++)\n",
        "\t\tdummy_kernel<<<dimGrid,dimBlock>>>(data, nblocks*blocksize, i);\n",
        "\tcudaEventRecord(stop, 0);\n",
        "\tcudaEventSynchronize(stop);\n",
        "\tcudaEventElapsedTime(&time, start, stop);\n",
        "\tprintf(\"Temps de l'implementation sequentielle:  %g ms\\n\", time);\n",
        "\n",
        "#ifdef USE_STREAMS\n",
        "\t// 2.1 Creation des streams\n",
        " \n",
        " \n",
        "\tcudaEventRecord(start, 0);\n",
        "\tcudaEventSynchronize(start);\n",
        "\t// 2.2 Execution des kernels\n",
        " \n",
        "\tcudaEventRecord(stop, 0);\n",
        "\tcudaEventSynchronize(stop);\n",
        "\tcudaEventElapsedTime(&time, start, stop);\n",
        "\tprintf(\"Temps de l'implementation parallel:  %g ms\\n\", time);\n",
        "\n",
        "\t// 2.3 Destruction des streams\n",
        " \n",
        "\n",
        "#endif\n",
        "\n",
        "\tcudaFree( data );\n",
        "\treturn EXIT_SUCCESS;\n",
        "}\n",
        "\n"
      ],
      "metadata": {
        "id": "qeYi8_uS0gVi"
      },
      "execution_count": null,
      "outputs": []
    },
    {
      "cell_type": "code",
      "source": [
        "%%shell\n",
        "\n",
        "make clean\n",
        "make"
      ],
      "metadata": {
        "id": "ySQXGSd79fBA"
      },
      "execution_count": null,
      "outputs": []
    },
    {
      "cell_type": "code",
      "source": [
        "%%shell\n",
        "\n",
        "./exercice02"
      ],
      "metadata": {
        "id": "ZLp6Nc399oaV"
      },
      "execution_count": null,
      "outputs": []
    }
  ]
}